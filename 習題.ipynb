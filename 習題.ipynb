{
  "nbformat": 4,
  "nbformat_minor": 0,
  "metadata": {
    "colab": {
      "provenance": [],
      "authorship_tag": "ABX9TyMZidMuv0twE+iIwkNcb71t",
      "include_colab_link": true
    },
    "kernelspec": {
      "name": "python3",
      "display_name": "Python 3"
    },
    "language_info": {
      "name": "python"
    }
  },
  "cells": [
    {
      "cell_type": "markdown",
      "metadata": {
        "id": "view-in-github",
        "colab_type": "text"
      },
      "source": [
        "<a href=\"https://colab.research.google.com/github/Asanojyun/Introduction-to-Computers/blob/main/%E7%BF%92%E9%A1%8C.ipynb\" target=\"_parent\"><img src=\"https://colab.research.google.com/assets/colab-badge.svg\" alt=\"Open In Colab\"/></a>"
      ]
    },
    {
      "cell_type": "code",
      "execution_count": null,
      "metadata": {
        "colab": {
          "base_uri": "https://localhost:8080/"
        },
        "id": "C_XrAlM9YaI-",
        "outputId": "06e4d0d5-8156-46be-b567-7727b09d1ac9"
      },
      "outputs": [
        {
          "output_type": "stream",
          "name": "stdout",
          "text": [
            "2\n",
            "2 is even\n"
          ]
        }
      ],
      "source": [
        "a = int(input())\n",
        "if a<0:\n",
        "  print(\"Input Error\")\n",
        "elif a%2==0:\n",
        "  print(a,\"is even\")\n",
        "else:\n",
        "  print(a,\"is odd\")"
      ]
    },
    {
      "cell_type": "code",
      "source": [
        "b = int(input())\n",
        "c = float(100000*(1+0.03)**b)\n",
        "if b<0:\n",
        "  print(\"Input Error\")\n",
        "else:\n",
        "  print(c)"
      ],
      "metadata": {
        "colab": {
          "base_uri": "https://localhost:8080/"
        },
        "id": "O9azDtgkYfuD",
        "outputId": "30998f23-ef96-4257-d851-3680d4959a06"
      },
      "execution_count": null,
      "outputs": [
        {
          "output_type": "stream",
          "name": "stdout",
          "text": [
            "-4\n",
            "Input Error\n"
          ]
        }
      ]
    },
    {
      "cell_type": "code",
      "source": [
        "d = 1\n",
        "sum = 0\n",
        "for d in range(1,101):\n",
        "  sum = sum+d\n",
        "print(sum)"
      ],
      "metadata": {
        "colab": {
          "base_uri": "https://localhost:8080/"
        },
        "id": "NCMLsOyOYfwD",
        "outputId": "0b2f89f4-8a03-44cd-a0fa-e6377fa2aad8"
      },
      "execution_count": null,
      "outputs": [
        {
          "output_type": "stream",
          "name": "stdout",
          "text": [
            "5050\n"
          ]
        }
      ]
    },
    {
      "cell_type": "code",
      "source": [
        "n = int(input())\n",
        "for i in range(1,n+1):\n",
        "  if n%i==0:\n",
        "    print(i,end=\" \")"
      ],
      "metadata": {
        "colab": {
          "base_uri": "https://localhost:8080/"
        },
        "id": "D-A-OD8CYfyV",
        "outputId": "6a8187ef-c0fe-4cc6-e3cd-e64cd5ed4e84"
      },
      "execution_count": null,
      "outputs": [
        {
          "output_type": "stream",
          "name": "stdout",
          "text": [
            "30\n",
            "1 2 3 5 6 10 15 30 "
          ]
        }
      ]
    },
    {
      "cell_type": "code",
      "source": [
        "e = str.split(input())\n",
        "for f in e[::-1]:\n",
        "  print(f,end=\" \")\n"
      ],
      "metadata": {
        "colab": {
          "base_uri": "https://localhost:8080/"
        },
        "id": "kBGg-nDzdFkn",
        "outputId": "1a0961f0-4358-4971-9b8b-290859ec6970"
      },
      "execution_count": null,
      "outputs": [
        {
          "output_type": "stream",
          "name": "stdout",
          "text": [
            "one emo\n",
            "apple banana cake "
          ]
        }
      ]
    },
    {
      "cell_type": "code",
      "source": [
        "#-----------------------------------------problems----------------------------------------"
      ],
      "metadata": {
        "id": "bgA7LI9DdFm_"
      },
      "execution_count": null,
      "outputs": []
    },
    {
      "cell_type": "code",
      "source": [
        "a = int(input())\n",
        "if a<0:\n",
        "  print(\"Input Error\")\n",
        "elif a%2==0:\n",
        "  print(a,\"is even\")\n",
        "else:\n",
        "  print(a,\"is odd\")"
      ],
      "metadata": {
        "id": "YvfHWfG2dFyN",
        "colab": {
          "base_uri": "https://localhost:8080/"
        },
        "outputId": "d4ba7eff-7217-4608-85af-c564265f1e7d"
      },
      "execution_count": null,
      "outputs": [
        {
          "output_type": "stream",
          "name": "stdout",
          "text": [
            "35\n",
            "35 is odd\n"
          ]
        }
      ]
    },
    {
      "cell_type": "code",
      "source": [
        "month = int(input())\n",
        "if month==1 or month==2 or month==3:\n",
        "  print(month,\"is spring\")\n",
        "elif month==4 or month==5 or month==6:\n",
        "  print(month,\"is summer\")\n",
        "elif month==7 or month==8 or month==9:\n",
        "  print(month,\"is autumn\")\n",
        "elif month==10 or month==11 or month==12:\n",
        "  print(month,\"is winter\")\n",
        "else:\n",
        "  print(\"Input Error\")"
      ],
      "metadata": {
        "id": "mGTg4NaCdFzx",
        "colab": {
          "base_uri": "https://localhost:8080/"
        },
        "outputId": "08dac956-5237-4430-be3b-c8b3ad8947cb"
      },
      "execution_count": null,
      "outputs": [
        {
          "output_type": "stream",
          "name": "stdout",
          "text": [
            "15\n",
            "Input Error\n"
          ]
        }
      ]
    },
    {
      "cell_type": "code",
      "source": [
        "km = int(input())\n",
        "if km==0:\n",
        "  print(\"0 yuan\")\n",
        "elif km>=1 and km<=5:\n",
        "  print(\"240 yuan\")\n",
        "elif km>5:\n",
        "  print(240+(km-5)*40,\"yuan\")\n",
        "else:\n",
        "  print(\"Input Error\")"
      ],
      "metadata": {
        "id": "NEsYfjENdF2N",
        "colab": {
          "base_uri": "https://localhost:8080/"
        },
        "outputId": "c01024ed-f7eb-4df1-b4de-9d3a2d91d070"
      },
      "execution_count": null,
      "outputs": [
        {
          "output_type": "stream",
          "name": "stdout",
          "text": [
            "12\n",
            "520 yuan\n"
          ]
        }
      ]
    },
    {
      "cell_type": "code",
      "source": [
        "b = int(input())\n",
        "c = float(100000*(1+0.03)**b)\n",
        "if b<0:\n",
        "  print(\"Input Error\")\n",
        "else:\n",
        "  print(c)"
      ],
      "metadata": {
        "id": "VQn3RsFMwIK9"
      },
      "execution_count": null,
      "outputs": []
    },
    {
      "cell_type": "code",
      "source": [
        "numbers = input()\n",
        "list = numbers.split()\n",
        "list = [int(num) for num in list]\n",
        "min = list[0]\n",
        "if list[1] < min:\n",
        "    min = list[1]\n",
        "if list[2] < min:\n",
        "    min = list[2] \n",
        "print(min)"
      ],
      "metadata": {
        "colab": {
          "base_uri": "https://localhost:8080/"
        },
        "id": "sS2qWAAI7wql",
        "outputId": "3290fa6c-a30a-4e49-9bd3-6d5c989c77bb"
      },
      "execution_count": null,
      "outputs": [
        {
          "output_type": "stream",
          "name": "stdout",
          "text": [
            "5 18 3\n",
            "3\n"
          ]
        }
      ]
    },
    {
      "cell_type": "code",
      "source": [
        "number = input()\n",
        "list = number.split()\n",
        "list = [float(num) for num in list]\n",
        "max = list[0]\n",
        "if list[1] > max:\n",
        "  max = list[1]\n",
        "if list[2] > max:\n",
        "  max = list[2]\n",
        "print(max)"
      ],
      "metadata": {
        "colab": {
          "base_uri": "https://localhost:8080/"
        },
        "id": "XTxhE62vwIOw",
        "outputId": "75f18f28-64d8-498f-afaf-d7331a271366"
      },
      "execution_count": null,
      "outputs": [
        {
          "output_type": "stream",
          "name": "stdout",
          "text": [
            "50.9 80.3 30.5\n",
            "80.3\n"
          ]
        }
      ]
    },
    {
      "cell_type": "code",
      "source": [
        "n = int(input())\n",
        "for i in range(1,n+1):\n",
        "  if n%i==0:\n",
        "    print(i,end=\" \")"
      ],
      "metadata": {
        "id": "lnIRCuZ6dF5M",
        "colab": {
          "base_uri": "https://localhost:8080/"
        },
        "outputId": "466cf1b9-afd1-43b1-fce6-e7e78e197c84"
      },
      "execution_count": null,
      "outputs": [
        {
          "output_type": "stream",
          "name": "stdout",
          "text": [
            "35\n",
            "1 5 7 35 "
          ]
        }
      ]
    },
    {
      "cell_type": "code",
      "source": [
        "n = int(input())\n",
        "sum = 0\n",
        "for i in range(1,n+1):\n",
        "  if i%3==0 or i%7==0:\n",
        "    sum = sum+i\n",
        "print(sum)"
      ],
      "metadata": {
        "colab": {
          "base_uri": "https://localhost:8080/"
        },
        "id": "a4QHCNKyEwig",
        "outputId": "bcedc287-00bf-4e9f-a592-428f43acd4ae"
      },
      "execution_count": null,
      "outputs": [
        {
          "output_type": "stream",
          "name": "stdout",
          "text": [
            "9999\n",
            "21426429\n"
          ]
        }
      ]
    },
    {
      "cell_type": "code",
      "source": [
        "n = int(input())\n",
        "for i in range(1,n+1):\n",
        "  print(\"*\"*i)\n"
      ],
      "metadata": {
        "id": "YGd2pMSVEwk4",
        "colab": {
          "base_uri": "https://localhost:8080/"
        },
        "outputId": "4d084ecf-c79f-45e4-de21-65b732e9f58f"
      },
      "execution_count": 17,
      "outputs": [
        {
          "output_type": "stream",
          "name": "stdout",
          "text": [
            "5\n",
            "*\n",
            "**\n",
            "***\n",
            "****\n",
            "*****\n"
          ]
        }
      ]
    },
    {
      "cell_type": "code",
      "source": [
        "n = int(input())\n",
        "for i in range(1,n+1):\n",
        "  for j in range(1,i+1):\n",
        "    print(j,end=\"\")\n",
        "  print()"
      ],
      "metadata": {
        "id": "sA218DNdVJAY",
        "colab": {
          "base_uri": "https://localhost:8080/"
        },
        "outputId": "3e1d25c1-3c02-4511-9c25-c21ca461281b"
      },
      "execution_count": 10,
      "outputs": [
        {
          "output_type": "stream",
          "name": "stdout",
          "text": [
            "7\n",
            "1\n",
            "12\n",
            "123\n",
            "1234\n",
            "12345\n",
            "123456\n",
            "1234567\n"
          ]
        }
      ]
    },
    {
      "cell_type": "code",
      "source": [
        "a,b = map(int,input().split())\n",
        "def cde(x,y):\n",
        "  while y!=0:\n",
        "    x,y = y,x%y\n",
        "  return x\n",
        "result = cde(a,b)\n",
        "print(result)"
      ],
      "metadata": {
        "colab": {
          "base_uri": "https://localhost:8080/"
        },
        "id": "w5YisArpwhxx",
        "outputId": "593605ee-6e53-4951-d969-b5d218e0d5e8"
      },
      "execution_count": 13,
      "outputs": [
        {
          "output_type": "stream",
          "name": "stdout",
          "text": [
            "80 81\n",
            "1\n"
          ]
        }
      ]
    },
    {
      "cell_type": "code",
      "source": [
        "a,b = map(int,input().split())\n",
        "def cde(x,y):\n",
        "  while y!=0:\n",
        "    x,y = y,x%y\n",
        "  return x\n",
        "result = (a*b) // cde(a,b)\n",
        "print(result)"
      ],
      "metadata": {
        "id": "ypzEmEAGVJFd",
        "colab": {
          "base_uri": "https://localhost:8080/"
        },
        "outputId": "983d5a23-3608-4c7c-ddf0-d5efbf0a5d34"
      },
      "execution_count": 14,
      "outputs": [
        {
          "output_type": "stream",
          "name": "stdout",
          "text": [
            "11 13\n",
            "143\n"
          ]
        }
      ]
    },
    {
      "cell_type": "code",
      "source": [
        "str = input()\n",
        "result = \"\"\n",
        "for i in range(len(str)):\n",
        "  if i%2==0:\n",
        "    result += str[i].upper()\n",
        "  else:\n",
        "    result += str[i].lower()\n",
        "print(result)  "
      ],
      "metadata": {
        "id": "tqf1K---Nq1y",
        "colab": {
          "base_uri": "https://localhost:8080/"
        },
        "outputId": "3b896807-3c16-46cd-bcd7-cc41eb7967d4"
      },
      "execution_count": 16,
      "outputs": [
        {
          "output_type": "stream",
          "name": "stdout",
          "text": [
            "tamkang university\n",
            "TaMkAnG UnIvErSiTy\n"
          ]
        }
      ]
    },
    {
      "cell_type": "code",
      "source": [
        "number = input()\n",
        "list = number.split()\n",
        "list = [float(num) for num in list]\n",
        "if list[0]+list[1]>list[2] and list[0]+list[2]>list[1] and list[2]+list[1]>list[0]:\n",
        "  print(\"Valid\")\n",
        "else:\n",
        "  print(\"Invalid\")"
      ],
      "metadata": {
        "colab": {
          "base_uri": "https://localhost:8080/"
        },
        "id": "lub28NhLNq6f",
        "outputId": "9e50319d-08ba-493d-edc1-4779150aeced"
      },
      "execution_count": null,
      "outputs": [
        {
          "output_type": "stream",
          "name": "stdout",
          "text": [
            "3 4 5\n",
            "Valid\n"
          ]
        }
      ]
    },
    {
      "cell_type": "code",
      "source": [
        "x = str.split(input())\n",
        "for i in x[::-1]:\n",
        "  print(i,end=\" \")"
      ],
      "metadata": {
        "colab": {
          "base_uri": "https://localhost:8080/"
        },
        "id": "fWDzE6czNq8Z",
        "outputId": "759b0946-c7ee-4410-c784-5e1b4e5f6da4"
      },
      "execution_count": null,
      "outputs": [
        {
          "output_type": "stream",
          "name": "stdout",
          "text": [
            "one wemo\n",
            "apple banana cake "
          ]
        }
      ]
    },
    {
      "cell_type": "code",
      "source": [
        "password = input()\n",
        "covered = \"*\" * len(password)\n",
        "print(covered)\n",
        "print(\"total:\" + str(len(password)))"
      ],
      "metadata": {
        "id": "_cykwfBiNrBn"
      },
      "execution_count": null,
      "outputs": []
    },
    {
      "cell_type": "code",
      "source": [
        "second = int(input())\n",
        "hour = second // 3600\n",
        "minute = (second % 3600) // 60\n",
        "second = second % 60\n",
        "time = \"{:02d}:{:02d}:{:02d}\".format(hour,minute,second)\n",
        "print(time)"
      ],
      "metadata": {
        "colab": {
          "base_uri": "https://localhost:8080/"
        },
        "id": "eTK_fFKt2hNc",
        "outputId": "5ae0f776-8948-4851-843b-1cf5654e05d4"
      },
      "execution_count": 27,
      "outputs": [
        {
          "output_type": "stream",
          "name": "stdout",
          "text": [
            "59438\n",
            "16:30:38\n"
          ]
        }
      ]
    },
    {
      "cell_type": "code",
      "source": [
        "seconds = int(input(\"請輸入時間的秒數: \"))\n",
        "\n",
        "hours = seconds // 3600\n",
        "minutes = (seconds % 3600) // 60\n",
        "seconds = seconds % 60\n",
        "\n",
        "time_str = \"{:02d}:{:02d}:{:02d}\".format(hours, minutes, seconds)\n",
        "print(time_str)"
      ],
      "metadata": {
        "id": "o7SaBVSd2fR0"
      },
      "execution_count": null,
      "outputs": []
    },
    {
      "cell_type": "code",
      "source": [
        "year = int(input())\n",
        "if (year%4==0 and year%100!=0) or year%400==0:\n",
        "  print(year,\"is leap year\")\n",
        "else:\n",
        "  print(year,\"is common year\")"
      ],
      "metadata": {
        "colab": {
          "base_uri": "https://localhost:8080/"
        },
        "id": "_tXujZvbNrD8",
        "outputId": "96f74593-ac20-42b7-c164-1d3339bde627"
      },
      "execution_count": null,
      "outputs": [
        {
          "output_type": "stream",
          "name": "stdout",
          "text": [
            "2100\n",
            "2100 is common year\n"
          ]
        }
      ]
    },
    {
      "cell_type": "code",
      "source": [
        "number = int(input())\n",
        "for i in range(1,10):\n",
        "    if i == 9:\n",
        "        print()\n",
        "    line = \"\"\n",
        "    for j in range(1,number+1):\n",
        "        result = j * i\n",
        "        line += \"%d*%d=%d \" % (j,i,result)\n",
        "    print(line)"
      ],
      "metadata": {
        "id": "NMZ9vuKqRvyK",
        "colab": {
          "base_uri": "https://localhost:8080/"
        },
        "outputId": "04877b42-45e7-44f9-fe6b-7ad469ca7eeb"
      },
      "execution_count": 33,
      "outputs": [
        {
          "output_type": "stream",
          "name": "stdout",
          "text": [
            "3\n",
            "1*1=1 2*1=2 3*1=3 \n",
            "1*2=2 2*2=4 3*2=6 \n",
            "1*3=3 2*3=6 3*3=9 \n",
            "1*4=4 2*4=8 3*4=12 \n",
            "1*5=5 2*5=10 3*5=15 \n",
            "1*6=6 2*6=12 3*6=18 \n",
            "1*7=7 2*7=14 3*7=21 \n",
            "1*8=8 2*8=16 3*8=24 \n",
            "\n",
            "1*9=9 2*9=18 3*9=27 \n"
          ]
        }
      ]
    },
    {
      "cell_type": "code",
      "source": [
        "number = int(input())\n",
        "for i in range(number, 10):\n",
        "    if i == 9:\n",
        "        print()\n",
        "    line = \"\"\n",
        "    for j in range(1, number + 1):\n",
        "        result = i * j\n",
        "        line += \"%d*%d=%d \" % (j,i,result)\n",
        "    print(line)"
      ],
      "metadata": {
        "colab": {
          "base_uri": "https://localhost:8080/"
        },
        "id": "Tv-bKM1q8htZ",
        "outputId": "2561c923-cd55-4475-d16b-91bfed75ea00"
      },
      "execution_count": 38,
      "outputs": [
        {
          "output_type": "stream",
          "name": "stdout",
          "text": [
            "3\n",
            "1*3=3 2*3=6 3*3=9 \n",
            "1*4=4 2*4=8 3*4=12 \n",
            "1*5=5 2*5=10 3*5=15 \n",
            "1*6=6 2*6=12 3*6=18 \n",
            "1*7=7 2*7=14 3*7=21 \n",
            "1*8=8 2*8=16 3*8=24 \n",
            "\n",
            "1*9=9 2*9=18 3*9=27 \n"
          ]
        }
      ]
    },
    {
      "cell_type": "code",
      "source": [
        "z = int(input())\n",
        "sum = 0\n",
        "for i in range(15,z+1):\n",
        "  if i%2==0:\n",
        "    sum = sum+i\n",
        "print(sum)"
      ],
      "metadata": {
        "colab": {
          "base_uri": "https://localhost:8080/"
        },
        "id": "vkcrhEMxEwnk",
        "outputId": "e6ad0b27-ef3c-4a36-c513-4e8faa91493d"
      },
      "execution_count": null,
      "outputs": [
        {
          "output_type": "stream",
          "name": "stdout",
          "text": [
            "22\n",
            "76\n"
          ]
        }
      ]
    }
  ]
}