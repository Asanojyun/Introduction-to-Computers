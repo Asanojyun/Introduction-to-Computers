{
  "nbformat": 4,
  "nbformat_minor": 0,
  "metadata": {
    "colab": {
      "provenance": [],
      "authorship_tag": "ABX9TyM4pWhym3uIS57EgMEbI33T",
      "include_colab_link": true
    },
    "kernelspec": {
      "name": "python3",
      "display_name": "Python 3"
    },
    "language_info": {
      "name": "python"
    }
  },
  "cells": [
    {
      "cell_type": "markdown",
      "metadata": {
        "id": "view-in-github",
        "colab_type": "text"
      },
      "source": [
        "<a href=\"https://colab.research.google.com/github/Asanojyun/Introduction-to-Computers/blob/main/0515.ipynb\" target=\"_parent\"><img src=\"https://colab.research.google.com/assets/colab-badge.svg\" alt=\"Open In Colab\"/></a>"
      ]
    },
    {
      "cell_type": "code",
      "execution_count": null,
      "metadata": {
        "colab": {
          "base_uri": "https://localhost:8080/"
        },
        "id": "mWfwuqT6PPT7",
        "outputId": "d25e8f6d-8266-4f30-8eb2-911c95ed256c"
      },
      "outputs": [
        {
          "output_type": "stream",
          "name": "stdout",
          "text": [
            "0515\n"
          ]
        }
      ],
      "source": [
        "print(\"0515\")"
      ]
    },
    {
      "cell_type": "code",
      "source": [
        "rain = str(input(\"今天會下雨嗎?\"))\n",
        "if rain==\"Y\" or rain==\"y\":\n",
        "  print(\"出門記得帶傘!\")\n",
        "elif rain==\"N\" or rain==\"n\":\n",
        "  print(\"不用帶傘\")\n",
        "else:\n",
        "  print(\"請重新輸入\")"
      ],
      "metadata": {
        "colab": {
          "base_uri": "https://localhost:8080/"
        },
        "id": "Fa1KbjEcRTjH",
        "outputId": "9a82bf53-ed82-4f5c-ac8c-30a5c46f976c"
      },
      "execution_count": null,
      "outputs": [
        {
          "output_type": "stream",
          "name": "stdout",
          "text": [
            "今天會下雨嗎?n\n",
            "不用帶傘\n"
          ]
        }
      ]
    },
    {
      "cell_type": "code",
      "source": [
        "temperature = float(input(\"體溫:\"))\n",
        "if temperature>=37.5:\n",
        "  print(\"體溫過高!\")\n",
        "elif temperature<=37.4 and temperature>=37:\n",
        "  print(\"體溫略⾼!\") \n",
        "elif temperature<=36.9 and temperature>=34:\n",
        "  print(\"體溫正常!\")\n",
        "else:\n",
        "  print(\"體溫異常，請重新量測!\")"
      ],
      "metadata": {
        "id": "57KeQcyPRTlc",
        "colab": {
          "base_uri": "https://localhost:8080/"
        },
        "outputId": "b615ba7d-cd21-481d-9c71-26e430c292bc"
      },
      "execution_count": 11,
      "outputs": [
        {
          "output_type": "stream",
          "name": "stdout",
          "text": [
            "體溫:38\n",
            "體溫過高!\n"
          ]
        }
      ]
    },
    {
      "cell_type": "code",
      "source": [
        "score = int(input(\"請輸入成績\"))\n",
        "if score>=90:\n",
        "  print(\"A\")\n",
        "elif score<=89 and score>=80:\n",
        "  print(\"B\")\n",
        "elif score<=79 and score>=70:\n",
        "  print(\"C\")\n",
        "elif score<=69 and score>=60:\n",
        "  print(\"D\")\n",
        "else:\n",
        "  print(\"E\")"
      ],
      "metadata": {
        "colab": {
          "base_uri": "https://localhost:8080/"
        },
        "id": "KXZLXVjWzlMG",
        "outputId": "16db7965-cf7d-41c1-ea49-fc1908e50a81"
      },
      "execution_count": 17,
      "outputs": [
        {
          "output_type": "stream",
          "name": "stdout",
          "text": [
            "請輸入成績34\n",
            "E\n"
          ]
        }
      ]
    },
    {
      "cell_type": "code",
      "source": [
        "month = int(input(\"請輸入月份:\"))\n",
        "if month==3 or month==4 or month==5:\n",
        "  print(month,\"月是春天!\")\n",
        "elif month==6 or month==7 or month==8:\n",
        "  print(month,\"月是夏天!\")\n",
        "elif month==9 or month==10 or month==11:\n",
        "  print(month,\"月是秋天!\")\n",
        "elif month==12 or month==1 or month==2:\n",
        "  print(month,\"月是冬天!\")\n",
        "else:\n",
        "  print(\"⽉份不在範圍內!\")"
      ],
      "metadata": {
        "colab": {
          "base_uri": "https://localhost:8080/"
        },
        "id": "4OajUgZ1zlPh",
        "outputId": "00e07a48-4adb-4616-9aef-9233579f4d19"
      },
      "execution_count": 32,
      "outputs": [
        {
          "output_type": "stream",
          "name": "stdout",
          "text": [
            "請輸入月份:3\n",
            "3 月是春天!\n"
          ]
        }
      ]
    },
    {
      "cell_type": "code",
      "source": [
        "x = int(input(\"請輸入今年收入淨額:\"))\n",
        "if x>=2000000:\n",
        "  print(\"付稅金額:\",x*0.3,\"元\")\n",
        "elif x<=1999999 and x>=1000000:\n",
        "  print(\"付稅金額:\",x*0.21,\"元\")\n",
        "elif x<=999999 and x>=600000:\n",
        "  print(\"付稅金額:\",x*0.13,\"元\")\n",
        "elif x<=599999 and x>=300000:\n",
        "  print(\"付稅金額:\",x*0.06,\"元\")\n",
        "else:\n",
        "  print(\"付稅金額:\",x*0,\"元\")"
      ],
      "metadata": {
        "colab": {
          "base_uri": "https://localhost:8080/"
        },
        "id": "w4TF1CyORTn0",
        "outputId": "5853800a-1d34-4d62-c283-e013caebe4bb"
      },
      "execution_count": 31,
      "outputs": [
        {
          "output_type": "stream",
          "name": "stdout",
          "text": [
            "請輸入今年收入淨額:600043\n",
            "付稅金額: 78005.59 元\n"
          ]
        }
      ]
    },
    {
      "cell_type": "code",
      "source": [
        "spend = int(input(\"請輸入購物金額:\"))\n",
        "if spend>=100000:\n",
        "  print(\"八折\",spend*0.8,\"元\")\n",
        "elif spend<=99999 and spend>=50000:\n",
        "  print(\"八五折\",spend*0.85,\"元\")\n",
        "elif spend<=49999 and spend>=30000:\n",
        "  print(\"九折\",spend*0.9,\"元\")\n",
        "elif spend<=29999 and spend>=10000:\n",
        "  print(\"九五折\",spend*0.95,\"元\")\n",
        "else:\n",
        "  print(\"沒打折\",spend)"
      ],
      "metadata": {
        "id": "-ltyC0MyRTqx",
        "colab": {
          "base_uri": "https://localhost:8080/"
        },
        "outputId": "79d21142-99d0-4e19-8309-0b6438366fb6"
      },
      "execution_count": 34,
      "outputs": [
        {
          "output_type": "stream",
          "name": "stdout",
          "text": [
            "請輸入購物金額:200000\n",
            "八折 160000.0 元\n"
          ]
        }
      ]
    }
  ]
}